{
 "cells": [
  {
   "cell_type": "markdown",
   "id": "d7adcafb-f65d-44f3-9f21-8f4232a524cd",
   "metadata": {},
   "source": [
    "# ETL Project\n",
    "##### Adam Cook\n",
    "##### ac7nm"
   ]
  },
  {
   "cell_type": "markdown",
   "id": "63ce3530-3a27-4c89-a6d5-ec7503a43b6f",
   "metadata": {},
   "source": [
    "### First, import all necessary packages, and change the path to your desired working directory"
   ]
  },
  {
   "cell_type": "code",
   "execution_count": 9,
   "id": "45f89844-9a2c-40f3-ae2e-191eb759c600",
   "metadata": {},
   "outputs": [],
   "source": [
    "import os\n",
    "import pandas as pd\n",
    "import mysql.connector\n",
    "import pymysql\n",
    "import sqlite3\n",
    "import numpy as np\n",
    "import json\n",
    "os.chdir('/Users/adam/Desktop/Data Science Systems')"
   ]
  },
  {
   "cell_type": "markdown",
   "id": "7b105138-c6f4-4120-aa4c-3d45769fb290",
   "metadata": {},
   "source": [
    "### Retrieve the dataset from Kaggle and save it in your working directory: https://www.kaggle.com/datasets/mathchi/hitters-baseball-data"
   ]
  },
  {
   "cell_type": "markdown",
   "id": "09aac5e2-7558-4fa6-99c3-d676f7228980",
   "metadata": {},
   "source": [
    "### Once you have done this, run the code below that will create the function necessary to make the desired changes to the data"
   ]
  },
  {
   "cell_type": "code",
   "execution_count": 10,
   "id": "3097f684-5cea-451e-86ca-dff41c52e6d9",
   "metadata": {},
   "outputs": [],
   "source": [
    "def etl(csv_name, desired_format, desired_name):\n",
    "    try:\n",
    "        df = pd.read_csv(csv_name) #Reading in the csv from local working directory\n",
    "    except:\n",
    "        #if an error occurs here, the user is told that the csv could not be read in\n",
    "        return 'File does not exist in working directory. Remember to wrap the name in quotes and include the .csv extension'\n",
    "    try:\n",
    "        df['Average'] = (df['Hits']/df['AtBat']) #making column changes to the dataframe - got rid of the career columns and added a batting average column\n",
    "        df1 = df.drop(df.columns[[7,8,9,10,11,12]],axis = 1)\n",
    "    except:\n",
    "        #If the column edits return an error, the user is informed that the dataframe could not be edited \n",
    "        return 'Unable to make changes to dataframe'\n",
    "    if desired_format == 'csv':\n",
    "        try:\n",
    "            data = df1 #If the user wants a csv, no changes have to be made \n",
    "            data.to_csv(desired_name)#This line takes the csv and saves it to the local directory\n",
    "            shape = data.shape #setting a variable for the number of rows and columns\n",
    "            #returns successful message and the shape of the dataframe\n",
    "            return f\"Modified csv file written to local directory with size: {shape}\", data.head()\n",
    "        except:\n",
    "            #If an error occurs here, the user is informed that the new csv was not saved to their machine\n",
    "            return 'Modified csv file could not be written to local directory'\n",
    "    elif desired_format == 'json':\n",
    "        try:\n",
    "            data = df1.to_json(desired_name)#If the user wants json, this converts the csv to a json object and writes it to the directory\n",
    "            o = open(desired_name)\n",
    "            data1 = json.load(o)#These two lines make it so the json can be displayed in the notebook\n",
    "            size = len(data1)\n",
    "            #returns a success message, the size of the json object, and the json object \n",
    "            return f\"json file saved to local directory with size: {size}\", data1\n",
    "        except:\n",
    "            #if an error occurs here, the user is informed the file was not converted\n",
    "            return 'file could not be converted to json'\n",
    "    elif desired_format == 'db':\n",
    "        try:\n",
    "            con = sqlite3.connect(\"Hitters.db\") #creating a connection to a database in sqlite\n",
    "            cur = con.cursor() #creating a cursor\n",
    "            df1.to_sql(name='Hitters', con=con, if_exists = 'replace') #sending the dataframe to an sqlite table\n",
    "            cur.execute(\"\"\"SELECT COUNT(*) FROM pragma_table_info('Hitters');\"\"\")\n",
    "            col_count = cur.fetchall()#These two lines get the number of columns of the database table\n",
    "            cur.execute(\"\"\" SELECT COUNT(*) FROM Hitters;\"\"\")\n",
    "            row_count = cur.fetchall()#These two lines get the number of rows of the database table\n",
    "            cur.execute(\"\"\" SELECT * FROM Hitters;\"\"\")\n",
    "            table = cur.fetchall() #These two lines fetch the table to display\n",
    "            #A success message is returned with the number of rows and columns in addition to the values in the table \n",
    "            return f'SQLite database table created with {row_count} rows and {col_count} columns', table \n",
    "        except:\n",
    "            #if an error occurs, the user is informed the csv was not converted\n",
    "            return 'csv could not be converted to SQL database table'\n",
    "    "
   ]
  },
  {
   "cell_type": "markdown",
   "id": "d9218d59-a8da-4c0e-814e-48303f61a638",
   "metadata": {
    "tags": []
   },
   "source": [
    "## User Instructions:\n",
    "- Within the parantheses below, enter:\n",
    "    - The name of the csv file in your directory including the file extension\n",
    "    - The format of your desired output, either:\n",
    "        - 'csv' for a csv file,\n",
    "        - 'json' for a json object,\n",
    "        - 'db' for an SQLite database table\n",
    "    - Your desired name of the output file to be saved to your directory, including the file extension that matches your desired format\n",
    "- Enter these items in the format ('name','format','desired name'), ensuring there are commas between the items and all three of them are wrapped in quotes\n",
    "- Execute the code block"
   ]
  },
  {
   "cell_type": "code",
   "execution_count": null,
   "id": "733c73a6-a1a6-471c-9be9-19fae03ef67c",
   "metadata": {},
   "outputs": [],
   "source": [
    "etl()"
   ]
  },
  {
   "cell_type": "code",
   "execution_count": null,
   "id": "ecfd4b2b-afb4-4a2f-9656-36f12d5c1b58",
   "metadata": {},
   "outputs": [],
   "source": []
  }
 ],
 "metadata": {
  "kernelspec": {
   "display_name": "Python 3 (ipykernel)",
   "language": "python",
   "name": "python3"
  },
  "language_info": {
   "codemirror_mode": {
    "name": "ipython",
    "version": 3
   },
   "file_extension": ".py",
   "mimetype": "text/x-python",
   "name": "python",
   "nbconvert_exporter": "python",
   "pygments_lexer": "ipython3",
   "version": "3.9.7"
  }
 },
 "nbformat": 4,
 "nbformat_minor": 5
}
