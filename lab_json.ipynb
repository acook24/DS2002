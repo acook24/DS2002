{
 "cells": [
  {
   "cell_type": "code",
   "execution_count": 211,
   "id": "9bc137a7-e176-4fa6-82b7-65ef5de926df",
   "metadata": {},
   "outputs": [],
   "source": [
    "import json\n",
    "import requests\n",
    "import requests.exceptions\n",
    "import pandas as pd\n",
    "import matplotlib.pyplot as plt\n",
    "from datetime import date"
   ]
  },
  {
   "cell_type": "code",
   "execution_count": 224,
   "id": "c34940d1-768b-4563-9570-89f909440b99",
   "metadata": {},
   "outputs": [
    {
     "name": "stdin",
     "output_type": "stream",
     "text": [
      "Ticker: goog\n"
     ]
    },
    {
     "name": "stdout",
     "output_type": "stream",
     "text": [
      "{'Ticker': 'GOOG', 'Company Name': 'Alphabet Inc.', 'Price': 98.3, 'Profit Margins': {'raw': 0.25892, 'fmt': '25.89%'}, 'Target Mean Price': {'raw': 148.95, 'fmt': '148.95'}, 'Access Date': datetime.date(2022, 10, 12)}\n"
     ]
    }
   ],
   "source": [
    "stock = input('Ticker:')\n",
    "\n",
    "headers_var = {\n",
    "    'User-Agent': 'Mozilla/5.0 (Macintosh; Intel Mac OS X 10_10_1) AppleWebKit/537.36 (KHTML, like Gecko) Chrome/39.0.2171.95 Safari/537.36'}\n",
    "\n",
    "try:\n",
    "    url_quote = 'https://query1.finance.yahoo.com/v7/finance/quote'\n",
    "    query_str = {'symbols': stock}\n",
    "\n",
    "    \n",
    "    try:\n",
    "        response1 = requests.request('GET',url_quote,headers=headers_var,params= query_str)\n",
    "        response1.raise_for_status()\n",
    "    except requests.exceptions.HTTPError as er_h:\n",
    "        print (\"Http Error:\",er_h)\n",
    "    except requests.exceptions.ConnectionError as er_c:\n",
    "        print (\"Connection Error:\",er_c)\n",
    "    except requests.exceptions.Timeout as er_t:\n",
    "        print (\"Timeout Error:\",er_t)\n",
    "    except requests.exceptions.RequestException as er:\n",
    "        print (\"Some Other Error\",er)\n",
    "    stock_json = response1.json()\n",
    "    longName = stock_json['quoteResponse']['result'][0]['longName']\n",
    "    ticker = stock_json['quoteResponse']['result'][0]['symbol']\n",
    "    price = stock_json['quoteResponse']['result'][0]['regularMarketPrice']\n",
    "\n",
    "    \n",
    "    \n",
    "    url2 = 'https://query1.finance.yahoo.com/v10/finance/quoteSummary/'\n",
    "    query_str2 = {'symbol': stock, \"modules\": \"defaultKeyStatistics\"}\n",
    "    try:\n",
    "        response2 = requests.request('GET',url2,headers=headers_var,params= query_str2)\n",
    "        response2.raise_for_status()\n",
    "    except requests.exceptions.HTTPError as er_h:\n",
    "        print (\"Http Error:\",er_h)\n",
    "    except requests.exceptions.ConnectionError as er_c:\n",
    "        print (\"Connection Error:\",er_c)\n",
    "    except requests.exceptions.Timeout as errt:\n",
    "        print (\"Timeout Error:\",er_t)\n",
    "    except requests.exceptions.RequestException as er:\n",
    "        print (\"Some Other Error\",er)\n",
    "    stock_json2 = response2.json()\n",
    "    profitMargins = stock_json2['quoteSummary']['result'][0]['defaultKeyStatistics']['profitMargins']\n",
    "\n",
    "    \n",
    "    \n",
    "    query_str3 = {'symbol': stock, \"modules\": \"financialData\"}\n",
    "    try:\n",
    "        response3 = requests.request('GET',url2,headers=headers_var,params= query_str3)\n",
    "        response3.raise_for_status\n",
    "    except requests.exceptions.HTTPError as er_h:\n",
    "        print (\"Http Error:\",er_h)\n",
    "    except requests.exceptions.ConnectionError as er_c:\n",
    "        print (\"Connection Error:\",er_c)\n",
    "    except requests.exceptions.Timeout as errt:\n",
    "        print (\"Timeout Error:\",er_t)\n",
    "    except requests.exceptions.RequestException as er:\n",
    "        print (\"Some Other Error\",er)\n",
    "    stock_json3 = response3.json()\n",
    "    targetMeanPrice = stock_json3['quoteSummary']['result'][0]['financialData']['targetMeanPrice']\n",
    "    cashOnHand = stock_json3['quoteSummary']['result'][0]['financialData']['totalCash']\n",
    "\n",
    "    \n",
    "    results = {'Ticker':ticker, \n",
    "           'Company Name':longName, \n",
    "           'Price':price, \n",
    "           'Profit Margins':profitMargins, \n",
    "           'Target Mean Price':targetMeanPrice,\n",
    "           'Access Date': date.today()}\n",
    "\n",
    "    print(results)\n",
    "\n",
    "\n",
    "    \n",
    "    with open('results.json', 'w') as results_file:\n",
    "        results_file.write(str(results))\n",
    "    \n",
    "except IndexError:\n",
    "    print('Invalid Ticker. Try Again')"
   ]
  },
  {
   "cell_type": "code",
   "execution_count": 225,
   "id": "9dde8179-726a-417e-b7d9-638120eb6294",
   "metadata": {},
   "outputs": [
    {
     "name": "stdin",
     "output_type": "stream",
     "text": [
      "Type ticker to see historical price over the last five days: aapl\n"
     ]
    },
    {
     "data": {
      "image/png": "[encoded data removed]",
      "text/plain": [
       "<Figure size 432x288 with 1 Axes>"
      ]
     },
     "metadata": {
      "needs_background": "light"
     },
     "output_type": "display_data"
    }
   ],
   "source": [
    "stock2 = input('Type ticker to see historical price over the last five days:')\n",
    "headers_var = {\n",
    "    'User-Agent': 'Mozilla/5.0 (Macintosh; Intel Mac OS X 10_10_1) AppleWebKit/537.36 (KHTML, like Gecko) Chrome/39.0.2171.95 Safari/537.36'}\n",
    "\n",
    "try:\n",
    "    url_graph = 'https://query1.finance.yahoo.com/v8/finance/chart/?metrics=high?&interval=1d&range=5d'\n",
    "    query_str4 = {'symbol': stock2,}\n",
    "    response4 = requests.request('GET',url_graph,headers=headers_var,params= query_str4)\n",
    "    stock_json4 = response4.json()\n",
    "\n",
    "    highs = stock_json4['chart']['result'][0]['indicators']['quote'][0]['high']\n",
    "    last5_dates = ['10/8', '10/9', '10/10', '10/11', '10/12']\n",
    "    data = {'Date': last5_dates,\n",
    "        'High': highs}\n",
    "    df = pd.DataFrame(data)\n",
    "\n",
    "    plt.plot(df['Date'],df['High'])\n",
    "    plt.title('Historical Highs')\n",
    "    plt.xlabel('Date')\n",
    "    plt.ylabel('Daily High ($)')\n",
    "    plt.show()\n",
    "    \n",
    "except TypeError:\n",
    "    print('Invalid Ticker. Try Again')\n"
   ]
  },
  {
   "cell_type": "code",
   "execution_count": 146,
   "id": "f23ee8ab-82f9-4805-a157-ef5d740e8959",
   "metadata": {},
   "outputs": [],
   "source": []
  },
  {
   "cell_type": "code",
   "execution_count": null,
   "id": "d1a6cb4e-a2cf-4be7-868a-cfdaa71f4038",
   "metadata": {},
   "outputs": [],
   "source": []
  }
 ],
 "metadata": {
  "kernelspec": {
   "display_name": "Python 3 (ipykernel)",
   "language": "python",
   "name": "python3"
  },
  "language_info": {
   "codemirror_mode": {
    "name": "ipython",
    "version": 3
   },
   "file_extension": ".py",
   "mimetype": "text/x-python",
   "name": "python",
   "nbconvert_exporter": "python",
   "pygments_lexer": "ipython3",
   "version": "3.9.7"
  }
 },
 "nbformat": 4,
 "nbformat_minor": 5
}
