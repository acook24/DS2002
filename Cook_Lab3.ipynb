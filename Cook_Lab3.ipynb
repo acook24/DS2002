{
 "cells": [
  {
   "cell_type": "code",
   "execution_count": 2,
   "id": "ea7d6953-ec67-400d-a590-2f3bd20da9d9",
   "metadata": {},
   "outputs": [
    {
     "data": {
      "text/plain": [
       "'/Users/adam/Desktop/Data Science Systems'"
      ]
     },
     "execution_count": 2,
     "metadata": {},
     "output_type": "execute_result"
    }
   ],
   "source": [
    "import os\n",
    "os.getcwd()\n",
    "os.chdir('/Users/adam/Desktop/Data Science Systems')\n",
    "os.getcwd()"
   ]
  },
  {
   "cell_type": "code",
   "execution_count": 3,
   "id": "225c62b2-fa15-47ee-bcc2-7ac7349b5af4",
   "metadata": {},
   "outputs": [],
   "source": [
    "import sqlite3"
   ]
  },
  {
   "cell_type": "code",
   "execution_count": 4,
   "id": "58bb3ac2-c93e-49a4-a84b-b60f5d85b026",
   "metadata": {},
   "outputs": [],
   "source": [
    "conn = sqlite3.connect('orders.db')"
   ]
  },
  {
   "cell_type": "code",
   "execution_count": 5,
   "id": "1adc2676-865c-4221-92b1-3de5bb10c3e0",
   "metadata": {},
   "outputs": [],
   "source": [
    "cur = conn.cursor()"
   ]
  },
  {
   "cell_type": "code",
   "execution_count": 6,
   "id": "8aed34af-1aef-4530-bfd3-3152ba31c3c1",
   "metadata": {},
   "outputs": [],
   "source": [
    "cur.execute(\"\"\"CREATE TABLE IF NOT EXISTS users(\n",
    "   userid INT PRIMARY KEY,\n",
    "   fname TEXT,\n",
    "   lname TEXT,\n",
    "   gender TEXT);\n",
    "\"\"\")\n",
    "conn.commit()"
   ]
  },
  {
   "cell_type": "code",
   "execution_count": 7,
   "id": "a6632414-9b3f-45be-bcf5-44d3ec212476",
   "metadata": {},
   "outputs": [],
   "source": [
    "cur.execute(\"\"\"CREATE TABLE IF NOT EXISTS orders(\n",
    "   orderid INT PRIMARY KEY,\n",
    "   date TEXT,\n",
    "   userid TEXT,\n",
    "   total TEXT);\n",
    "\"\"\")\n",
    "conn.commit()"
   ]
  },
  {
   "cell_type": "code",
   "execution_count": 8,
   "id": "097cad35-0b31-4a77-abe6-e89031b0010c",
   "metadata": {},
   "outputs": [],
   "source": [
    "cur.execute(\"\"\"INSERT INTO users(userid, fname, lname, gender) \n",
    "   VALUES('00001', 'Nik', 'Piepenbreier', 'male');\"\"\")\n",
    "conn.commit()"
   ]
  },
  {
   "cell_type": "code",
   "execution_count": 9,
   "id": "1d2a3478-6710-4ab2-8d26-d632f66bc660",
   "metadata": {},
   "outputs": [],
   "source": [
    "customers = [('00005', 'Stephanie', 'Stewart', 'female'), ('00006', 'Sincere', 'Sherman', 'female'), ('00007', 'Sidney', 'Horn', 'male'), ('00008', 'Litzy', 'Yates', 'female'), ('00009', 'Jaxon', 'Mills', 'male'), ('00010', 'Paul', 'Richard', 'male'), ('00011', 'Kamari', 'Holden', 'female'), ('00012', 'Gaige', 'Summers', 'female'), ('00013', 'Andrea', 'Snow', 'female'), ('00014', 'Angelica', 'Barnes', 'female'), ('00015', 'Leah', 'Pitts', 'female'), ('00016', 'Dillan', 'Olsen', 'male'), ('00017', 'Joe', 'Walsh', 'male'), ('00018', 'Reagan', 'Cooper', 'male'), ('00019', 'Aubree', 'Hogan', 'female'), ('00020', 'Avery', 'Floyd', 'male'), ('00021', 'Elianna', 'Simmons', 'female'), ('00022', 'Rodney', 'Stout', 'male'), ('00023', 'Elaine', 'Mcintosh', 'female'), ('00024', 'Myla', 'Mckenzie', 'female'), ('00025', 'Alijah', 'Horn', 'female'), ('00026', 'Rohan', 'Peterson', 'male'), ('00027', 'Irene', 'Walters', 'female'), ('00028', 'Lilia', 'Sellers', 'female'), ('00029', 'Perla', 'Jefferson', 'female'), ('00030', 'Ashley', 'Klein', 'female')]"
   ]
  },
  {
   "cell_type": "code",
   "execution_count": 10,
   "id": "40e7d418-1396-4c0d-90f8-3a06f067b5b9",
   "metadata": {},
   "outputs": [],
   "source": [
    "orders = [('00001', '2020-01-01', '00025', '178'), ('00002', '2020-01-03', '00025', '39'), ('00003', '2020-01-07', '00016', '153'), ('00004', '2020-01-10', '00015', '110'), ('00005', '2020-01-11', '00024', '219'), ('00006', '2020-01-12', '00029', '37'), ('00007', '2020-01-14', '00028', '227'), ('00008', '2020-01-18', '00010', '232'), ('00009', '2020-01-22', '00016', '236'), ('00010', '2020-01-26', '00017', '116'), ('00011', '2020-01-28', '00028', '221'), ('00012', '2020-01-31', '00021', '238'), ('00013', '2020-02-02', '00015', '177'), ('00014', '2020-02-05', '00025', '76'), ('00015', '2020-02-08', '00022', '245'), ('00016', '2020-02-12', '00008', '180'), ('00017', '2020-02-14', '00020', '190'), ('00018', '2020-02-18', '00030', '166'), ('00019', '2020-02-22', '00002', '168'), ('00020', '2020-02-26', '00021', '174'), ('00021', '2020-02-29', '00017', '126'), ('00022', '2020-03-02', '00019', '211'), ('00023', '2020-03-05', '00030', '144'), ('00024', '2020-03-09', '00012', '112'), ('00025', '2020-03-10', '00006', '45'), ('00026', '2020-03-11', '00004', '200'), ('00027', '2020-03-14', '00015', '226'), ('00028', '2020-03-17', '00030', '189'), ('00029', '2020-03-20', '00004', '152'), ('00030', '2020-03-22', '00026', '239'), ('00031', '2020-03-23', '00012', '135'), ('00032', '2020-03-24', '00013', '211'), ('00033', '2020-03-27', '00030', '226'), ('00034', '2020-03-28', '00007', '173'), ('00035', '2020-03-30', '00010', '144'), ('00036', '2020-04-01', '00017', '185'), ('00037', '2020-04-03', '00009', '95'), ('00038', '2020-04-06', '00009', '138'), ('00039', '2020-04-10', '00025', '223'), ('00040', '2020-04-12', '00019', '118'), ('00041', '2020-04-15', '00024', '132'), ('00042', '2020-04-18', '00008', '238'), ('00043', '2020-04-21', '00003', '50'), ('00044', '2020-04-25', '00019', '98'), ('00045', '2020-04-26', '00017', '167'), ('00046', '2020-04-28', '00009', '215'), ('00047', '2020-05-01', '00014', '142'), ('00048', '2020-05-05', '00022', '173'), ('00049', '2020-05-06', '00015', '80'), ('00050', '2020-05-07', '00017', '37'), ('00051', '2020-05-08', '00002', '36'), ('00052', '2020-05-10', '00022', '65'), ('00053', '2020-05-14', '00019', '110'), ('00054', '2020-05-18', '00017', '36'), ('00055', '2020-05-21', '00008', '163'), ('00056', '2020-05-24', '00024', '91'), ('00057', '2020-05-26', '00028', '154'), ('00058', '2020-05-30', '00022', '130'), ('00059', '2020-05-31', '00017', '119'), ('00060', '2020-06-01', '00024', '137'), ('00061', '2020-06-03', '00017', '206'), ('00062', '2020-06-04', '00013', '100'), ('00063', '2020-06-05', '00021', '187'), ('00064', '2020-06-09', '00025', '170'), ('00065', '2020-06-11', '00011', '149'), ('00066', '2020-06-12', '00007', '195'), ('00067', '2020-06-14', '00015', '30'), ('00068', '2020-06-16', '00002', '246'), ('00069', '2020-06-20', '00028', '163'), ('00070', '2020-06-22', '00005', '184'), ('00071', '2020-06-23', '00022', '68'), ('00072', '2020-06-27', '00013', '92'), ('00073', '2020-06-30', '00022', '149'), ('00074', '2020-07-04', '00002', '65'), ('00075', '2020-07-05', '00017', '88'), ('00076', '2020-07-09', '00007', '156'), ('00077', '2020-07-13', '00010', '26'), ('00078', '2020-07-16', '00008', '55'), ('00079', '2020-07-20', '00019', '81'), ('00080', '2020-07-22', '00011', '78'), ('00081', '2020-07-23', '00026', '166'), ('00082', '2020-07-27', '00014', '65'), ('00083', '2020-07-30', '00021', '205'), ('00084', '2020-08-01', '00026', '140'), ('00085', '2020-08-05', '00006', '236'), ('00086', '2020-08-06', '00021', '208'), ('00087', '2020-08-07', '00021', '169'), ('00088', '2020-08-08', '00004', '157'), ('00089', '2020-08-11', '00017', '71'), ('00090', '2020-08-13', '00025', '89'), ('00091', '2020-08-16', '00014', '249'), ('00092', '2020-08-18', '00012', '59'), ('00093', '2020-08-19', '00013', '121'), ('00094', '2020-08-20', '00025', '179'), ('00095', '2020-08-22', '00017', '208'), ('00096', '2020-08-26', '00024', '217'), ('00097', '2020-08-28', '00004', '206'), ('00098', '2020-08-30', '00017', '114'), ('00099', '2020-08-31', '00017', '169'), ('00100', '2020-09-02', '00022', '226')]"
   ]
  },
  {
   "cell_type": "code",
   "execution_count": 14,
   "id": "e7e6aa07-778b-40d5-bc19-a32e7c5860d2",
   "metadata": {},
   "outputs": [],
   "source": [
    "user = ('00002', 'Lois', 'Lane', 'Female')\n",
    "more_users = [('00003', 'Peter', 'Parker', 'Male'), ('00004', 'Bruce', 'Wayne', 'male')]"
   ]
  },
  {
   "cell_type": "code",
   "execution_count": 15,
   "id": "6a9adb48-9ca2-42e2-abdd-b2c457e20b2d",
   "metadata": {},
   "outputs": [],
   "source": [
    "cur.execute(\"INSERT INTO users VALUES(?, ?, ?, ?);\", user)\n",
    "conn.commit()"
   ]
  },
  {
   "cell_type": "code",
   "execution_count": 16,
   "id": "a19dc59c-a2e2-4ca9-bd6a-f4e1bcbced99",
   "metadata": {},
   "outputs": [],
   "source": [
    "cur.executemany(\"INSERT INTO users VALUES(?, ?, ?, ?);\", more_users)\n",
    "conn.commit()"
   ]
  },
  {
   "cell_type": "code",
   "execution_count": 11,
   "id": "65978f4b-c807-498b-a1ce-fa321f9b905b",
   "metadata": {},
   "outputs": [],
   "source": [
    "cur.executemany(\"INSERT INTO users VALUES(?, ?, ?, ?);\", customers)\n",
    "cur.executemany(\"INSERT INTO orders VALUES(?, ?, ?, ?);\", orders)\n",
    "conn.commit()"
   ]
  },
  {
   "cell_type": "code",
   "execution_count": 12,
   "id": "dcc3fdd9-0a05-4c2b-a47c-1ec68be28342",
   "metadata": {},
   "outputs": [
    {
     "name": "stdout",
     "output_type": "stream",
     "text": [
      "(1, 'Nik', 'Piepenbreier', 'male')\n"
     ]
    }
   ],
   "source": [
    "cur.execute(\"SELECT * FROM users;\")\n",
    "one_result = cur.fetchone()\n",
    "print(one_result)"
   ]
  },
  {
   "cell_type": "code",
   "execution_count": 17,
   "id": "ea57570f-bf65-406f-bf9b-acdb68137a2b",
   "metadata": {},
   "outputs": [
    {
     "name": "stdout",
     "output_type": "stream",
     "text": [
      "[(1, 'Nik', 'Piepenbreier', 'male'), (5, 'Stephanie', 'Stewart', 'female'), (6, 'Sincere', 'Sherman', 'female')]\n"
     ]
    }
   ],
   "source": [
    "cur.execute(\"SELECT * FROM users;\")\n",
    "three_results = cur.fetchmany(3)\n",
    "print(three_results)\n",
    "# This returns 1,5, and 6 because at first I didn't realize users 2,3, and 4 were part of the tutorial, but I went back and added them in the data set, theyre just not in order"
   ]
  },
  {
   "cell_type": "code",
   "execution_count": 18,
   "id": "10b50053-9db0-4f0c-b0df-cb5daf272cc8",
   "metadata": {},
   "outputs": [
    {
     "name": "stdout",
     "output_type": "stream",
     "text": [
      "[(1, 'Nik', 'Piepenbreier', 'male'), (5, 'Stephanie', 'Stewart', 'female'), (6, 'Sincere', 'Sherman', 'female'), (7, 'Sidney', 'Horn', 'male'), (8, 'Litzy', 'Yates', 'female'), (9, 'Jaxon', 'Mills', 'male'), (10, 'Paul', 'Richard', 'male'), (11, 'Kamari', 'Holden', 'female'), (12, 'Gaige', 'Summers', 'female'), (13, 'Andrea', 'Snow', 'female'), (14, 'Angelica', 'Barnes', 'female'), (15, 'Leah', 'Pitts', 'female'), (16, 'Dillan', 'Olsen', 'male'), (17, 'Joe', 'Walsh', 'male'), (18, 'Reagan', 'Cooper', 'male'), (19, 'Aubree', 'Hogan', 'female'), (20, 'Avery', 'Floyd', 'male'), (21, 'Elianna', 'Simmons', 'female'), (22, 'Rodney', 'Stout', 'male'), (23, 'Elaine', 'Mcintosh', 'female'), (24, 'Myla', 'Mckenzie', 'female'), (25, 'Alijah', 'Horn', 'female'), (26, 'Rohan', 'Peterson', 'male'), (27, 'Irene', 'Walters', 'female'), (28, 'Lilia', 'Sellers', 'female'), (29, 'Perla', 'Jefferson', 'female'), (30, 'Ashley', 'Klein', 'female'), (2, 'Lois', 'Lane', 'Female'), (3, 'Peter', 'Parker', 'Male'), (4, 'Bruce', 'Wayne', 'male')]\n"
     ]
    }
   ],
   "source": [
    "cur.execute(\"SELECT * FROM users;\")\n",
    "all_results = cur.fetchall()\n",
    "print(all_results)"
   ]
  },
  {
   "cell_type": "code",
   "execution_count": 19,
   "id": "a825a1ab-c2b1-45dc-af73-7ab722017c24",
   "metadata": {},
   "outputs": [],
   "source": [
    "cur.execute(\"DELETE FROM users WHERE lname='Parker';\")\n",
    "conn.commit()"
   ]
  },
  {
   "cell_type": "code",
   "execution_count": 20,
   "id": "ea2fa48e-5172-4512-a010-2fa789293f70",
   "metadata": {},
   "outputs": [
    {
     "name": "stdout",
     "output_type": "stream",
     "text": [
      "[]\n"
     ]
    }
   ],
   "source": [
    "cur.execute(\"select * from users where lname='Parker'\")\n",
    "print(cur.fetchall())"
   ]
  },
  {
   "cell_type": "code",
   "execution_count": 22,
   "id": "f6cc7942-8da0-451b-8636-86c3a4b0f8bc",
   "metadata": {},
   "outputs": [
    {
     "name": "stdout",
     "output_type": "stream",
     "text": [
      "[(1, '2020-01-01', '00025', '178', 25, 'Alijah', 'Horn', 'female', 'Alijah', 'Horn'), (2, '2020-01-03', '00025', '39', 25, 'Alijah', 'Horn', 'female', 'Alijah', 'Horn'), (3, '2020-01-07', '00016', '153', 16, 'Dillan', 'Olsen', 'male', 'Dillan', 'Olsen'), (4, '2020-01-10', '00015', '110', 15, 'Leah', 'Pitts', 'female', 'Leah', 'Pitts'), (5, '2020-01-11', '00024', '219', 24, 'Myla', 'Mckenzie', 'female', 'Myla', 'Mckenzie'), (6, '2020-01-12', '00029', '37', 29, 'Perla', 'Jefferson', 'female', 'Perla', 'Jefferson'), (7, '2020-01-14', '00028', '227', 28, 'Lilia', 'Sellers', 'female', 'Lilia', 'Sellers'), (8, '2020-01-18', '00010', '232', 10, 'Paul', 'Richard', 'male', 'Paul', 'Richard'), (9, '2020-01-22', '00016', '236', 16, 'Dillan', 'Olsen', 'male', 'Dillan', 'Olsen'), (10, '2020-01-26', '00017', '116', 17, 'Joe', 'Walsh', 'male', 'Joe', 'Walsh')]\n"
     ]
    }
   ],
   "source": [
    "cur.execute(\"\"\"SELECT *, users.fname, users.lname FROM orders\n",
    "    LEFT JOIN users ON users.userid=orders.userid;\"\"\")\n",
    "print(cur.fetchmany(10))"
   ]
  },
  {
   "cell_type": "markdown",
   "id": "2eac2f62-ad18-4a45-815f-864e48ec6b2c",
   "metadata": {},
   "source": [
    "## Repo Link:"
   ]
  },
  {
   "cell_type": "markdown",
   "id": "c02798ad-a6d1-44b6-bb6c-883982f858a3",
   "metadata": {},
   "source": [
    "https://github.com/acook24/DS2002"
   ]
  },
  {
   "cell_type": "code",
   "execution_count": null,
   "id": "e0b0c2a4-dcb7-4285-aa2e-c78f7280ef27",
   "metadata": {},
   "outputs": [],
   "source": []
  }
 ],
 "metadata": {
  "kernelspec": {
   "display_name": "Python 3 (ipykernel)",
   "language": "python",
   "name": "python3"
  },
  "language_info": {
   "codemirror_mode": {
    "name": "ipython",
    "version": 3
   },
   "file_extension": ".py",
   "mimetype": "text/x-python",
   "name": "python",
   "nbconvert_exporter": "python",
   "pygments_lexer": "ipython3",
   "version": "3.9.7"
  }
 },
 "nbformat": 4,
 "nbformat_minor": 5
}
